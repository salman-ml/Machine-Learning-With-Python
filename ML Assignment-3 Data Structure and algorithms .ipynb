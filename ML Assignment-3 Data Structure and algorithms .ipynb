{
 "cells": [
  {
   "cell_type": "markdown",
   "id": "26663f09",
   "metadata": {},
   "source": [
    "# Data Structure in Python"
   ]
  },
  {
   "cell_type": "markdown",
   "id": "ac30c684",
   "metadata": {},
   "source": [
    "# list\n",
    "1. Ordered\n",
    "2. Changeable\n",
    "3. Allow Duplicate"
   ]
  },
  {
   "cell_type": "code",
   "execution_count": 1,
   "id": "a4071f79",
   "metadata": {},
   "outputs": [
    {
     "data": {
      "text/plain": [
       "['data', 'science', 1, 2, 3, 4, 88, True, False, [1, 2, 3, 4]]"
      ]
     },
     "execution_count": 1,
     "metadata": {},
     "output_type": "execute_result"
    }
   ],
   "source": [
    "l1=['data', 'science', 1,2,3,4,88,True, False, [1,2,3,4]]\n",
    "l1"
   ]
  },
  {
   "cell_type": "code",
   "execution_count": 2,
   "id": "096c6de0",
   "metadata": {},
   "outputs": [
    {
     "data": {
      "text/plain": [
       "136"
      ]
     },
     "execution_count": 2,
     "metadata": {},
     "output_type": "execute_result"
    }
   ],
   "source": [
    "import sys\n",
    "sys.getsizeof(l1)"
   ]
  },
  {
   "cell_type": "code",
   "execution_count": 3,
   "id": "504f8b54",
   "metadata": {},
   "outputs": [
    {
     "data": {
      "text/plain": [
       "('data', 'science', 1, 2, 3, 4, 88, True, False, [1, 2, 3, 4])"
      ]
     },
     "execution_count": 3,
     "metadata": {},
     "output_type": "execute_result"
    }
   ],
   "source": [
    "t1=('data', 'science', 1,2,3,4,88,True, False, [1,2,3,4])\n",
    "t1"
   ]
  },
  {
   "cell_type": "code",
   "execution_count": 4,
   "id": "7b2c5bfc",
   "metadata": {},
   "outputs": [
    {
     "data": {
      "text/plain": [
       "120"
      ]
     },
     "execution_count": 4,
     "metadata": {},
     "output_type": "execute_result"
    }
   ],
   "source": [
    "sys.getsizeof(t1)"
   ]
  },
  {
   "cell_type": "code",
   "execution_count": 5,
   "id": "cfd72402",
   "metadata": {},
   "outputs": [
    {
     "data": {
      "text/plain": [
       "[1, 2, 3, 4]"
      ]
     },
     "execution_count": 5,
     "metadata": {},
     "output_type": "execute_result"
    }
   ],
   "source": [
    "t1[-1]"
   ]
  },
  {
   "cell_type": "code",
   "execution_count": 6,
   "id": "13ec4a87",
   "metadata": {},
   "outputs": [
    {
     "data": {
      "text/plain": [
       "'data'"
      ]
     },
     "execution_count": 6,
     "metadata": {},
     "output_type": "execute_result"
    }
   ],
   "source": [
    "l1[0]"
   ]
  },
  {
   "cell_type": "code",
   "execution_count": 7,
   "id": "aac94ffd",
   "metadata": {},
   "outputs": [],
   "source": [
    "l1[0]= 'science'"
   ]
  },
  {
   "cell_type": "code",
   "execution_count": 8,
   "id": "daca1897",
   "metadata": {},
   "outputs": [
    {
     "data": {
      "text/plain": [
       "['science', 'science', 1, 2, 3, 4, 88, True, False, [1, 2, 3, 4]]"
      ]
     },
     "execution_count": 8,
     "metadata": {},
     "output_type": "execute_result"
    }
   ],
   "source": [
    "l1"
   ]
  },
  {
   "cell_type": "code",
   "execution_count": 9,
   "id": "75c850ea",
   "metadata": {},
   "outputs": [],
   "source": [
    "#t1[0]='science'"
   ]
  },
  {
   "cell_type": "code",
   "execution_count": 10,
   "id": "63dfaf00",
   "metadata": {},
   "outputs": [
    {
     "data": {
      "text/plain": [
       "2"
      ]
     },
     "execution_count": 10,
     "metadata": {},
     "output_type": "execute_result"
    }
   ],
   "source": [
    "l1[3]"
   ]
  },
  {
   "cell_type": "code",
   "execution_count": 11,
   "id": "6ae9d809",
   "metadata": {},
   "outputs": [
    {
     "data": {
      "text/plain": [
       "[2]"
      ]
     },
     "execution_count": 11,
     "metadata": {},
     "output_type": "execute_result"
    }
   ],
   "source": [
    "l1[3:4] # colon means 3 to 4 index "
   ]
  },
  {
   "cell_type": "code",
   "execution_count": 12,
   "id": "a508ab58",
   "metadata": {},
   "outputs": [
    {
     "data": {
      "text/plain": [
       "['science', 'science', 1, 2, 3, 4, 88, True, False, [1, 2, 3, 4]]"
      ]
     },
     "execution_count": 12,
     "metadata": {},
     "output_type": "execute_result"
    }
   ],
   "source": [
    "l1"
   ]
  },
  {
   "cell_type": "code",
   "execution_count": 13,
   "id": "5bcb5782",
   "metadata": {},
   "outputs": [],
   "source": [
    "l1.append('salman')"
   ]
  },
  {
   "cell_type": "code",
   "execution_count": 14,
   "id": "4722c5e0",
   "metadata": {},
   "outputs": [
    {
     "data": {
      "text/plain": [
       "['science', 'science', 1, 2, 3, 4, 88, True, False, [1, 2, 3, 4], 'salman']"
      ]
     },
     "execution_count": 14,
     "metadata": {},
     "output_type": "execute_result"
    }
   ],
   "source": [
    "l1"
   ]
  },
  {
   "cell_type": "code",
   "execution_count": 15,
   "id": "1237fa7b",
   "metadata": {},
   "outputs": [
    {
     "data": {
      "text/plain": [
       "['science',\n",
       " 'science',\n",
       " 1,\n",
       " 'Teacher',\n",
       " 2,\n",
       " 3,\n",
       " 4,\n",
       " 88,\n",
       " True,\n",
       " False,\n",
       " [1, 2, 3, 4],\n",
       " 'salman']"
      ]
     },
     "execution_count": 15,
     "metadata": {},
     "output_type": "execute_result"
    }
   ],
   "source": [
    "l1.insert(3, 'Teacher')\n",
    "l1"
   ]
  },
  {
   "cell_type": "code",
   "execution_count": 16,
   "id": "e38d0979",
   "metadata": {},
   "outputs": [
    {
     "data": {
      "text/plain": [
       "3"
      ]
     },
     "execution_count": 16,
     "metadata": {},
     "output_type": "execute_result"
    }
   ],
   "source": [
    "l1.index('Teacher')"
   ]
  },
  {
   "cell_type": "code",
   "execution_count": 17,
   "id": "fc271abe",
   "metadata": {},
   "outputs": [],
   "source": [
    "l2=l1"
   ]
  },
  {
   "cell_type": "code",
   "execution_count": 18,
   "id": "7563c1c3",
   "metadata": {},
   "outputs": [],
   "source": [
    "l2.remove('science') #delete by value"
   ]
  },
  {
   "cell_type": "code",
   "execution_count": 19,
   "id": "b5dc90fe",
   "metadata": {},
   "outputs": [
    {
     "data": {
      "text/plain": [
       "['science', 1, 'Teacher', 2, 3, 4, 88, True, False, [1, 2, 3, 4], 'salman']"
      ]
     },
     "execution_count": 19,
     "metadata": {},
     "output_type": "execute_result"
    }
   ],
   "source": [
    "l2"
   ]
  },
  {
   "cell_type": "code",
   "execution_count": 20,
   "id": "99182353",
   "metadata": {},
   "outputs": [
    {
     "data": {
      "text/plain": [
       "['science', 1, 'Teacher', 2, 3, 4, 88, True, False, [1, 2, 3, 4], 'salman']"
      ]
     },
     "execution_count": 20,
     "metadata": {},
     "output_type": "execute_result"
    }
   ],
   "source": [
    "l1"
   ]
  },
  {
   "cell_type": "code",
   "execution_count": 21,
   "id": "662b98af",
   "metadata": {},
   "outputs": [
    {
     "data": {
      "text/plain": [
       "2021170392512"
      ]
     },
     "execution_count": 21,
     "metadata": {},
     "output_type": "execute_result"
    }
   ],
   "source": [
    "id(l1)"
   ]
  },
  {
   "cell_type": "code",
   "execution_count": 22,
   "id": "a3d0f5aa",
   "metadata": {},
   "outputs": [
    {
     "data": {
      "text/plain": [
       "2021170392512"
      ]
     },
     "execution_count": 22,
     "metadata": {},
     "output_type": "execute_result"
    }
   ],
   "source": [
    "id(l2)"
   ]
  },
  {
   "cell_type": "code",
   "execution_count": 23,
   "id": "ec9ecc76",
   "metadata": {},
   "outputs": [
    {
     "data": {
      "text/plain": [
       "['Teacher', 2, 3]"
      ]
     },
     "execution_count": 23,
     "metadata": {},
     "output_type": "execute_result"
    }
   ],
   "source": [
    "l1[2:5]"
   ]
  },
  {
   "cell_type": "code",
   "execution_count": 24,
   "id": "fa0eb9e3",
   "metadata": {},
   "outputs": [
    {
     "data": {
      "text/plain": [
       "[1, 2, 3, 4]"
      ]
     },
     "execution_count": 24,
     "metadata": {},
     "output_type": "execute_result"
    }
   ],
   "source": [
    "l1[-2]"
   ]
  },
  {
   "cell_type": "code",
   "execution_count": 25,
   "id": "13d5d577",
   "metadata": {},
   "outputs": [
    {
     "data": {
      "text/plain": [
       "['I', 'like', 'data', 'science']"
      ]
     },
     "execution_count": 25,
     "metadata": {},
     "output_type": "execute_result"
    }
   ],
   "source": [
    "string='I like data science'\n",
    "string.split()"
   ]
  },
  {
   "cell_type": "code",
   "execution_count": 26,
   "id": "770d4638",
   "metadata": {},
   "outputs": [],
   "source": [
    "data=string.split()"
   ]
  },
  {
   "cell_type": "code",
   "execution_count": 59,
   "id": "5a55aae7",
   "metadata": {},
   "outputs": [
    {
     "name": "stdout",
     "output_type": "stream",
     "text": [
      "I\n",
      "like\n",
      "data\n",
      "science\n"
     ]
    }
   ],
   "source": [
    "for x in range (len(data)):\n",
    "    print(data[x])"
   ]
  },
  {
   "cell_type": "code",
   "execution_count": 28,
   "id": "9a8ff451",
   "metadata": {},
   "outputs": [
    {
     "name": "stdout",
     "output_type": "stream",
     "text": [
      "I\n",
      "like\n",
      "data\n",
      "science\n"
     ]
    }
   ],
   "source": [
    "for x in range (len(data)):\n",
    "    print(data[x])"
   ]
  },
  {
   "cell_type": "code",
   "execution_count": 29,
   "id": "f5bc8d55",
   "metadata": {},
   "outputs": [
    {
     "data": {
      "text/plain": [
       "['science', 1, 'Teacher', 2, 3, 4, 88, True, False, [1, 2, 3, 4], 'salman']"
      ]
     },
     "execution_count": 29,
     "metadata": {},
     "output_type": "execute_result"
    }
   ],
   "source": [
    "l2"
   ]
  },
  {
   "cell_type": "code",
   "execution_count": 30,
   "id": "74f17216",
   "metadata": {},
   "outputs": [
    {
     "data": {
      "text/plain": [
       "[1, 2, 3, 4]"
      ]
     },
     "execution_count": 30,
     "metadata": {},
     "output_type": "execute_result"
    }
   ],
   "source": [
    "l2.pop(-2) # delete by index"
   ]
  },
  {
   "cell_type": "code",
   "execution_count": 31,
   "id": "9ca9fbed",
   "metadata": {},
   "outputs": [
    {
     "data": {
      "text/plain": [
       "['science', 1, 'Teacher', 2, 3, 4, 88, True, False, 'salman']"
      ]
     },
     "execution_count": 31,
     "metadata": {},
     "output_type": "execute_result"
    }
   ],
   "source": [
    "l2"
   ]
  },
  {
   "cell_type": "code",
   "execution_count": 32,
   "id": "99d8b490",
   "metadata": {},
   "outputs": [],
   "source": [
    "l3=l2.copy() #to copy ignore this problem use copy"
   ]
  },
  {
   "cell_type": "code",
   "execution_count": 33,
   "id": "5f717b26",
   "metadata": {},
   "outputs": [
    {
     "data": {
      "text/plain": [
       "['science', 1, 2, 3, 4, 88, True, False, 'salman']"
      ]
     },
     "execution_count": 33,
     "metadata": {},
     "output_type": "execute_result"
    }
   ],
   "source": [
    "l3.remove('Teacher')\n",
    "l3"
   ]
  },
  {
   "cell_type": "code",
   "execution_count": 34,
   "id": "c31b2835",
   "metadata": {},
   "outputs": [
    {
     "data": {
      "text/plain": [
       "['science', 1, 'Teacher', 2, 3, 4, 88, True, False, 'salman']"
      ]
     },
     "execution_count": 34,
     "metadata": {},
     "output_type": "execute_result"
    }
   ],
   "source": [
    "l2"
   ]
  },
  {
   "cell_type": "code",
   "execution_count": 35,
   "id": "52f7a0bc",
   "metadata": {},
   "outputs": [],
   "source": [
    "del l2[9]"
   ]
  },
  {
   "cell_type": "code",
   "execution_count": 36,
   "id": "7512cab0",
   "metadata": {},
   "outputs": [
    {
     "data": {
      "text/plain": [
       "['science', 1, 'Teacher', 2, 3, 4, 88, True, False]"
      ]
     },
     "execution_count": 36,
     "metadata": {},
     "output_type": "execute_result"
    }
   ],
   "source": [
    "l2"
   ]
  },
  {
   "cell_type": "code",
   "execution_count": 37,
   "id": "84106dd4",
   "metadata": {},
   "outputs": [],
   "source": [
    " l4=[1,2,5,5,12,7]"
   ]
  },
  {
   "cell_type": "code",
   "execution_count": 38,
   "id": "27a583dc",
   "metadata": {},
   "outputs": [
    {
     "data": {
      "text/plain": [
       "[1, 2, 5, 5, 7, 12]"
      ]
     },
     "execution_count": 38,
     "metadata": {},
     "output_type": "execute_result"
    }
   ],
   "source": [
    "l4.sort()\n",
    "l4"
   ]
  },
  {
   "cell_type": "code",
   "execution_count": 39,
   "id": "a9cac163",
   "metadata": {},
   "outputs": [
    {
     "data": {
      "text/plain": [
       "[12, 7, 5, 5, 2, 1]"
      ]
     },
     "execution_count": 39,
     "metadata": {},
     "output_type": "execute_result"
    }
   ],
   "source": [
    "l4.reverse()\n",
    "l4"
   ]
  },
  {
   "cell_type": "code",
   "execution_count": 40,
   "id": "b47cd129",
   "metadata": {},
   "outputs": [
    {
     "data": {
      "text/plain": [
       "1"
      ]
     },
     "execution_count": 40,
     "metadata": {},
     "output_type": "execute_result"
    }
   ],
   "source": [
    "l4.count(1)"
   ]
  },
  {
   "cell_type": "code",
   "execution_count": 41,
   "id": "05823935",
   "metadata": {},
   "outputs": [
    {
     "name": "stdout",
     "output_type": "stream",
     "text": [
      "1\n"
     ]
    }
   ],
   "source": [
    "print(l4.count(1))"
   ]
  },
  {
   "cell_type": "code",
   "execution_count": 42,
   "id": "8e2c5460",
   "metadata": {},
   "outputs": [],
   "source": [
    "l4.clear()"
   ]
  },
  {
   "cell_type": "code",
   "execution_count": 43,
   "id": "31fcdb77",
   "metadata": {},
   "outputs": [
    {
     "data": {
      "text/plain": [
       "[]"
      ]
     },
     "execution_count": 43,
     "metadata": {},
     "output_type": "execute_result"
    }
   ],
   "source": [
    "l4"
   ]
  },
  {
   "cell_type": "code",
   "execution_count": 44,
   "id": "53fb985c",
   "metadata": {},
   "outputs": [],
   "source": [
    " l4=[1,2,5,5,12,7]"
   ]
  },
  {
   "cell_type": "code",
   "execution_count": 45,
   "id": "4d3dd63a",
   "metadata": {},
   "outputs": [
    {
     "name": "stdout",
     "output_type": "stream",
     "text": [
      "32\n"
     ]
    }
   ],
   "source": [
    "total=0\n",
    "for x in l4:\n",
    "    total+=x\n",
    "print(total)"
   ]
  },
  {
   "cell_type": "code",
   "execution_count": 46,
   "id": "02640d28",
   "metadata": {},
   "outputs": [
    {
     "name": "stdout",
     "output_type": "stream",
     "text": [
      "1\n",
      "3\n",
      "8\n",
      "13\n",
      "25\n",
      "32\n"
     ]
    }
   ],
   "source": [
    "total=0\n",
    "for x in l4:\n",
    "    total=x+total\n",
    "    print(total)"
   ]
  },
  {
   "cell_type": "markdown",
   "id": "048e0fb2",
   "metadata": {},
   "source": [
    "# Input Fanction"
   ]
  },
  {
   "cell_type": "code",
   "execution_count": 47,
   "id": "3f9a054c",
   "metadata": {},
   "outputs": [
    {
     "data": {
      "text/plain": [
       "30"
      ]
     },
     "execution_count": 47,
     "metadata": {},
     "output_type": "execute_result"
    }
   ],
   "source": [
    "x=10\n",
    "y=20\n",
    "x+y"
   ]
  },
  {
   "cell_type": "code",
   "execution_count": 48,
   "id": "fafd0b4d",
   "metadata": {},
   "outputs": [
    {
     "name": "stdout",
     "output_type": "stream",
     "text": [
      "10\n",
      "20\n"
     ]
    },
    {
     "data": {
      "text/plain": [
       "'1020'"
      ]
     },
     "execution_count": 48,
     "metadata": {},
     "output_type": "execute_result"
    }
   ],
   "source": [
    "x=input()\n",
    "y=input()\n",
    "x+y"
   ]
  },
  {
   "cell_type": "code",
   "execution_count": 49,
   "id": "ba0ebd5c",
   "metadata": {},
   "outputs": [
    {
     "name": "stdout",
     "output_type": "stream",
     "text": [
      "Please Enter 1st Number \n",
      "20\n",
      "Ente the 2nd Number\n",
      "20\n"
     ]
    },
    {
     "data": {
      "text/plain": [
       "40"
      ]
     },
     "execution_count": 49,
     "metadata": {},
     "output_type": "execute_result"
    }
   ],
   "source": [
    "x=int(input('Please Enter 1st Number \\n'))\n",
    "y=int(input('Ente the 2nd Number\\n'))\n",
    "x+y"
   ]
  },
  {
   "cell_type": "markdown",
   "id": "48297e6e",
   "metadata": {},
   "source": [
    "# list input"
   ]
  },
  {
   "cell_type": "code",
   "execution_count": 50,
   "id": "e7c7d95e",
   "metadata": {},
   "outputs": [
    {
     "name": "stdout",
     "output_type": "stream",
     "text": [
      "Enter the number of input12\n",
      "Enter the list value\n",
      "21\n",
      "['21']\n",
      "Enter the list value\n",
      "1\n",
      "['21', '1']\n",
      "Enter the list value\n",
      "1\n",
      "['21', '1', '1']\n",
      "Enter the list value\n",
      "1\n",
      "['21', '1', '1', '1']\n",
      "Enter the list value\n",
      "1\n",
      "['21', '1', '1', '1', '1']\n",
      "Enter the list value\n",
      "1\n",
      "['21', '1', '1', '1', '1', '1']\n",
      "Enter the list value\n",
      "1\n",
      "['21', '1', '1', '1', '1', '1', '1']\n",
      "Enter the list value\n",
      "1\n",
      "['21', '1', '1', '1', '1', '1', '1', '1']\n",
      "Enter the list value\n",
      "1\n",
      "['21', '1', '1', '1', '1', '1', '1', '1', '1']\n",
      "Enter the list value\n",
      "1\n",
      "['21', '1', '1', '1', '1', '1', '1', '1', '1', '1']\n",
      "Enter the list value\n",
      "1\n",
      "['21', '1', '1', '1', '1', '1', '1', '1', '1', '1', '1']\n",
      "Enter the list value\n",
      "1\n",
      "['21', '1', '1', '1', '1', '1', '1', '1', '1', '1', '1', '1']\n"
     ]
    }
   ],
   "source": [
    "list1=[]\n",
    "n=int(input('Enter the number of input'))\n",
    "for i  in range(n):\n",
    "    print('Enter the list value')\n",
    "    new_element=input()\n",
    "    list1.append(new_element)\n",
    "    print(list1)"
   ]
  },
  {
   "cell_type": "markdown",
   "id": "bd405407",
   "metadata": {},
   "source": [
    "# Tuple in python"
   ]
  },
  {
   "cell_type": "code",
   "execution_count": 3,
   "id": "09d2bf8b",
   "metadata": {},
   "outputs": [
    {
     "data": {
      "text/plain": [
       "tuple"
      ]
     },
     "execution_count": 3,
     "metadata": {},
     "output_type": "execute_result"
    }
   ],
   "source": [
    "tup1=('data science',)\n",
    "type(tup1)"
   ]
  },
  {
   "cell_type": "code",
   "execution_count": 4,
   "id": "ff0b9514",
   "metadata": {},
   "outputs": [],
   "source": [
    "tup1=('data science','ML')"
   ]
  },
  {
   "cell_type": "code",
   "execution_count": 5,
   "id": "32a01034",
   "metadata": {},
   "outputs": [
    {
     "data": {
      "text/plain": [
       "('data science', 'ML')"
      ]
     },
     "execution_count": 5,
     "metadata": {},
     "output_type": "execute_result"
    }
   ],
   "source": [
    "tup1"
   ]
  },
  {
   "cell_type": "code",
   "execution_count": 7,
   "id": "c8f6f583",
   "metadata": {},
   "outputs": [],
   "source": [
    "tup2=list(tup1)"
   ]
  },
  {
   "cell_type": "code",
   "execution_count": 8,
   "id": "e8f50ccf",
   "metadata": {},
   "outputs": [
    {
     "data": {
      "text/plain": [
       "['data science', 'ML']"
      ]
     },
     "execution_count": 8,
     "metadata": {},
     "output_type": "execute_result"
    }
   ],
   "source": [
    "tup2"
   ]
  },
  {
   "cell_type": "code",
   "execution_count": 9,
   "id": "91ceeca2",
   "metadata": {},
   "outputs": [],
   "source": [
    "tup2[0]=2"
   ]
  },
  {
   "cell_type": "code",
   "execution_count": 10,
   "id": "e9c01a42",
   "metadata": {},
   "outputs": [],
   "source": [
    "tup1=tuple(tup2)"
   ]
  },
  {
   "cell_type": "code",
   "execution_count": 13,
   "id": "ee82256b",
   "metadata": {},
   "outputs": [
    {
     "data": {
      "text/plain": [
       "(2, 'ML')"
      ]
     },
     "execution_count": 13,
     "metadata": {},
     "output_type": "execute_result"
    }
   ],
   "source": [
    "tup1"
   ]
  },
  {
   "cell_type": "code",
   "execution_count": 14,
   "id": "5dda6071",
   "metadata": {},
   "outputs": [
    {
     "data": {
      "text/plain": [
       "tuple"
      ]
     },
     "execution_count": 14,
     "metadata": {},
     "output_type": "execute_result"
    }
   ],
   "source": [
    "type(tup1)"
   ]
  },
  {
   "cell_type": "code",
   "execution_count": 15,
   "id": "4b1a9a40",
   "metadata": {},
   "outputs": [
    {
     "data": {
      "text/plain": [
       "True"
      ]
     },
     "execution_count": 15,
     "metadata": {},
     "output_type": "execute_result"
    }
   ],
   "source": [
    "'ML' in tup2"
   ]
  },
  {
   "cell_type": "code",
   "execution_count": 16,
   "id": "2d5c88e1",
   "metadata": {},
   "outputs": [
    {
     "data": {
      "text/plain": [
       "False"
      ]
     },
     "execution_count": 16,
     "metadata": {},
     "output_type": "execute_result"
    }
   ],
   "source": [
    "3 in tup2"
   ]
  },
  {
   "cell_type": "code",
   "execution_count": 19,
   "id": "fa1c3ee3",
   "metadata": {},
   "outputs": [],
   "source": [
    "slic = tup1[1:2]"
   ]
  },
  {
   "cell_type": "code",
   "execution_count": 20,
   "id": "fe22f261",
   "metadata": {},
   "outputs": [
    {
     "data": {
      "text/plain": [
       "('ML',)"
      ]
     },
     "execution_count": 20,
     "metadata": {},
     "output_type": "execute_result"
    }
   ],
   "source": [
    "slic"
   ]
  },
  {
   "cell_type": "code",
   "execution_count": 21,
   "id": "1aec3d6e",
   "metadata": {},
   "outputs": [
    {
     "data": {
      "text/plain": [
       "(2, 'ML')"
      ]
     },
     "execution_count": 21,
     "metadata": {},
     "output_type": "execute_result"
    }
   ],
   "source": [
    "tup1[:1] + tup1[1:2]"
   ]
  },
  {
   "cell_type": "markdown",
   "id": "d6713453",
   "metadata": {},
   "source": [
    "# SET{}"
   ]
  },
  {
   "cell_type": "markdown",
   "id": "7605c0ad",
   "metadata": {},
   "source": [
    "1. unodered\n",
    "2. Unchangeable\n",
    "3. Duplicate value not allowed"
   ]
  },
  {
   "cell_type": "code",
   "execution_count": 2,
   "id": "b9f685c1",
   "metadata": {},
   "outputs": [],
   "source": [
    "s1 = {1,2,3,4,4,34,6}\n",
    "s2 = {'machine', 'learning', 'data science'}"
   ]
  },
  {
   "cell_type": "code",
   "execution_count": 3,
   "id": "8f4115d1",
   "metadata": {},
   "outputs": [
    {
     "data": {
      "text/plain": [
       "{1, 2, 3, 4, 6, 34}"
      ]
     },
     "execution_count": 3,
     "metadata": {},
     "output_type": "execute_result"
    }
   ],
   "source": [
    "s1"
   ]
  },
  {
   "cell_type": "code",
   "execution_count": 3,
   "id": "8f78dd00",
   "metadata": {},
   "outputs": [
    {
     "data": {
      "text/plain": [
       "{'data science', 'learning', 'machine'}"
      ]
     },
     "execution_count": 3,
     "metadata": {},
     "output_type": "execute_result"
    }
   ],
   "source": [
    "s2"
   ]
  },
  {
   "cell_type": "code",
   "execution_count": 4,
   "id": "8fa6222d",
   "metadata": {},
   "outputs": [
    {
     "data": {
      "text/plain": [
       "set()"
      ]
     },
     "execution_count": 4,
     "metadata": {},
     "output_type": "execute_result"
    }
   ],
   "source": [
    "s1.intersection(s2)"
   ]
  },
  {
   "cell_type": "code",
   "execution_count": 5,
   "id": "5c50d83d",
   "metadata": {},
   "outputs": [],
   "source": [
    "s2={2,3,4,4,34,16}"
   ]
  },
  {
   "cell_type": "code",
   "execution_count": 6,
   "id": "a6c5870c",
   "metadata": {},
   "outputs": [
    {
     "data": {
      "text/plain": [
       "{2, 3, 4, 16, 34}"
      ]
     },
     "execution_count": 6,
     "metadata": {},
     "output_type": "execute_result"
    }
   ],
   "source": [
    "s2"
   ]
  },
  {
   "cell_type": "code",
   "execution_count": 7,
   "id": "fed73cdc",
   "metadata": {},
   "outputs": [
    {
     "data": {
      "text/plain": [
       "{2, 3, 4, 34}"
      ]
     },
     "execution_count": 7,
     "metadata": {},
     "output_type": "execute_result"
    }
   ],
   "source": [
    "s1.intersection(s2)"
   ]
  },
  {
   "cell_type": "code",
   "execution_count": 8,
   "id": "2e2b89cf",
   "metadata": {},
   "outputs": [
    {
     "data": {
      "text/plain": [
       "{1, 2, 3, 4, 6, 16, 34}"
      ]
     },
     "execution_count": 8,
     "metadata": {},
     "output_type": "execute_result"
    }
   ],
   "source": [
    "s1.union(s2)"
   ]
  },
  {
   "cell_type": "code",
   "execution_count": 9,
   "id": "d9974712",
   "metadata": {},
   "outputs": [
    {
     "data": {
      "text/plain": [
       "{1, 2, 3, 4, 6, 16, 34}"
      ]
     },
     "execution_count": 9,
     "metadata": {},
     "output_type": "execute_result"
    }
   ],
   "source": [
    "s1 | s2"
   ]
  },
  {
   "cell_type": "code",
   "execution_count": 10,
   "id": "0451d251",
   "metadata": {},
   "outputs": [
    {
     "data": {
      "text/plain": [
       "{2, 3, 4, 34}"
      ]
     },
     "execution_count": 10,
     "metadata": {},
     "output_type": "execute_result"
    }
   ],
   "source": [
    "s1 & s2"
   ]
  },
  {
   "cell_type": "code",
   "execution_count": 11,
   "id": "d2acd696",
   "metadata": {},
   "outputs": [],
   "source": [
    "s1.add(23)"
   ]
  },
  {
   "cell_type": "code",
   "execution_count": 12,
   "id": "e42b1a40",
   "metadata": {},
   "outputs": [
    {
     "data": {
      "text/plain": [
       "{1, 2, 3, 4, 6, 23, 34}"
      ]
     },
     "execution_count": 12,
     "metadata": {},
     "output_type": "execute_result"
    }
   ],
   "source": [
    "s1"
   ]
  },
  {
   "cell_type": "code",
   "execution_count": 16,
   "id": "ab6c501a",
   "metadata": {},
   "outputs": [],
   "source": [
    "s1.remove(6)"
   ]
  },
  {
   "cell_type": "code",
   "execution_count": 17,
   "id": "c2401385",
   "metadata": {},
   "outputs": [
    {
     "data": {
      "text/plain": [
       "{1, 2, 3, 4, 23, 34}"
      ]
     },
     "execution_count": 17,
     "metadata": {},
     "output_type": "execute_result"
    }
   ],
   "source": [
    "s1"
   ]
  },
  {
   "cell_type": "code",
   "execution_count": 19,
   "id": "bf6e1eb1",
   "metadata": {},
   "outputs": [],
   "source": [
    "s1.clear()"
   ]
  },
  {
   "cell_type": "code",
   "execution_count": 20,
   "id": "014f24f4",
   "metadata": {},
   "outputs": [
    {
     "data": {
      "text/plain": [
       "set()"
      ]
     },
     "execution_count": 20,
     "metadata": {},
     "output_type": "execute_result"
    }
   ],
   "source": [
    "s1"
   ]
  },
  {
   "cell_type": "markdown",
   "id": "350fac6b",
   "metadata": {},
   "source": [
    "# Array"
   ]
  },
  {
   "cell_type": "code",
   "execution_count": 21,
   "id": "fccba1fd",
   "metadata": {},
   "outputs": [],
   "source": [
    "import array as ar"
   ]
  },
  {
   "cell_type": "code",
   "execution_count": 22,
   "id": "1354c757",
   "metadata": {},
   "outputs": [],
   "source": [
    "array=ar.array('i',[1,2,5,7,9,10])"
   ]
  },
  {
   "cell_type": "code",
   "execution_count": 23,
   "id": "fa797dd7",
   "metadata": {},
   "outputs": [
    {
     "data": {
      "text/plain": [
       "array('i', [1, 2, 5, 7, 9, 10])"
      ]
     },
     "execution_count": 23,
     "metadata": {},
     "output_type": "execute_result"
    }
   ],
   "source": [
    "array"
   ]
  },
  {
   "cell_type": "code",
   "execution_count": 24,
   "id": "dfcf4b0c",
   "metadata": {},
   "outputs": [],
   "source": [
    "array=ar.array('f',[1,2,5,7,9,10])"
   ]
  },
  {
   "cell_type": "code",
   "execution_count": 25,
   "id": "c5791953",
   "metadata": {},
   "outputs": [
    {
     "data": {
      "text/plain": [
       "array('f', [1.0, 2.0, 5.0, 7.0, 9.0, 10.0])"
      ]
     },
     "execution_count": 25,
     "metadata": {},
     "output_type": "execute_result"
    }
   ],
   "source": [
    "array"
   ]
  },
  {
   "cell_type": "code",
   "execution_count": 26,
   "id": "07f4d27c",
   "metadata": {},
   "outputs": [],
   "source": [
    "array.insert(1,10) # 1 is position and 10 is value"
   ]
  },
  {
   "cell_type": "code",
   "execution_count": 27,
   "id": "97ffef64",
   "metadata": {},
   "outputs": [
    {
     "data": {
      "text/plain": [
       "array('f', [1.0, 10.0, 2.0, 5.0, 7.0, 9.0, 10.0])"
      ]
     },
     "execution_count": 27,
     "metadata": {},
     "output_type": "execute_result"
    }
   ],
   "source": [
    "array"
   ]
  },
  {
   "cell_type": "code",
   "execution_count": 28,
   "id": "d6e6b34e",
   "metadata": {},
   "outputs": [],
   "source": [
    "array.reverse()"
   ]
  },
  {
   "cell_type": "code",
   "execution_count": 29,
   "id": "b2e36cfa",
   "metadata": {},
   "outputs": [
    {
     "data": {
      "text/plain": [
       "array('f', [10.0, 9.0, 7.0, 5.0, 2.0, 10.0, 1.0])"
      ]
     },
     "execution_count": 29,
     "metadata": {},
     "output_type": "execute_result"
    }
   ],
   "source": [
    "array"
   ]
  },
  {
   "cell_type": "code",
   "execution_count": 30,
   "id": "41ce98b4",
   "metadata": {},
   "outputs": [
    {
     "data": {
      "text/plain": [
       "2"
      ]
     },
     "execution_count": 30,
     "metadata": {},
     "output_type": "execute_result"
    }
   ],
   "source": [
    "array.count(10)"
   ]
  },
  {
   "cell_type": "markdown",
   "id": "6c60e477",
   "metadata": {},
   "source": [
    "# Dictionary"
   ]
  },
  {
   "cell_type": "markdown",
   "id": "68338f0e",
   "metadata": {},
   "source": [
    "1. Changeable\n",
    "2. Duplicate value not allowed"
   ]
  },
  {
   "cell_type": "code",
   "execution_count": 1,
   "id": "533843ee",
   "metadata": {},
   "outputs": [],
   "source": [
    "dic={\n",
    "    'name': 'salman',\n",
    "    'varsity':  'CU',\n",
    "    'year':'2022'\n",
    "}"
   ]
  },
  {
   "cell_type": "code",
   "execution_count": 2,
   "id": "b3cbd030",
   "metadata": {},
   "outputs": [
    {
     "data": {
      "text/plain": [
       "{'name': 'salman', 'varsity': 'CU', 'year': '2022'}"
      ]
     },
     "execution_count": 2,
     "metadata": {},
     "output_type": "execute_result"
    }
   ],
   "source": [
    "dic"
   ]
  },
  {
   "cell_type": "code",
   "execution_count": 3,
   "id": "781b135b",
   "metadata": {},
   "outputs": [
    {
     "data": {
      "text/plain": [
       "dict_keys(['name', 'varsity', 'year'])"
      ]
     },
     "execution_count": 3,
     "metadata": {},
     "output_type": "execute_result"
    }
   ],
   "source": [
    "dic.keys()"
   ]
  },
  {
   "cell_type": "code",
   "execution_count": 4,
   "id": "834a83d7",
   "metadata": {},
   "outputs": [
    {
     "data": {
      "text/plain": [
       "dict_values(['salman', 'CU', '2022'])"
      ]
     },
     "execution_count": 4,
     "metadata": {},
     "output_type": "execute_result"
    }
   ],
   "source": [
    "dic.values()"
   ]
  },
  {
   "cell_type": "code",
   "execution_count": 5,
   "id": "8936f5e1",
   "metadata": {},
   "outputs": [],
   "source": [
    "dic['varsity']='Future U'"
   ]
  },
  {
   "cell_type": "code",
   "execution_count": 6,
   "id": "c11c7a3e",
   "metadata": {},
   "outputs": [
    {
     "data": {
      "text/plain": [
       "{'name': 'salman', 'varsity': 'Future U', 'year': '2022'}"
      ]
     },
     "execution_count": 6,
     "metadata": {},
     "output_type": "execute_result"
    }
   ],
   "source": [
    "dic"
   ]
  },
  {
   "cell_type": "code",
   "execution_count": 9,
   "id": "713ddac5",
   "metadata": {},
   "outputs": [
    {
     "data": {
      "text/plain": [
       "['salman', 'Future U', '2022']"
      ]
     },
     "execution_count": 9,
     "metadata": {},
     "output_type": "execute_result"
    }
   ],
   "source": [
    "list(dic.values())"
   ]
  },
  {
   "cell_type": "code",
   "execution_count": 11,
   "id": "e95e8008",
   "metadata": {},
   "outputs": [
    {
     "data": {
      "text/plain": [
       "{'2022', 'Future U', 'salman'}"
      ]
     },
     "execution_count": 11,
     "metadata": {},
     "output_type": "execute_result"
    }
   ],
   "source": [
    "set(dic.values())"
   ]
  },
  {
   "cell_type": "code",
   "execution_count": 12,
   "id": "e38e6346",
   "metadata": {},
   "outputs": [
    {
     "data": {
      "text/plain": [
       "'Future U'"
      ]
     },
     "execution_count": 12,
     "metadata": {},
     "output_type": "execute_result"
    }
   ],
   "source": [
    "dic.pop('varsity')"
   ]
  },
  {
   "cell_type": "code",
   "execution_count": 13,
   "id": "8bed6b64",
   "metadata": {},
   "outputs": [
    {
     "data": {
      "text/plain": [
       "{'name': 'salman', 'year': '2022'}"
      ]
     },
     "execution_count": 13,
     "metadata": {},
     "output_type": "execute_result"
    }
   ],
   "source": [
    "dic"
   ]
  },
  {
   "cell_type": "code",
   "execution_count": 14,
   "id": "da82fa1b",
   "metadata": {},
   "outputs": [
    {
     "data": {
      "text/plain": [
       "'salman'"
      ]
     },
     "execution_count": 14,
     "metadata": {},
     "output_type": "execute_result"
    }
   ],
   "source": [
    "dic.pop('name')"
   ]
  },
  {
   "cell_type": "code",
   "execution_count": 15,
   "id": "4430d491",
   "metadata": {},
   "outputs": [
    {
     "data": {
      "text/plain": [
       "{'year': '2022'}"
      ]
     },
     "execution_count": 15,
     "metadata": {},
     "output_type": "execute_result"
    }
   ],
   "source": [
    "dic"
   ]
  },
  {
   "cell_type": "markdown",
   "id": "ee3e9bf0",
   "metadata": {},
   "source": [
    "# DataFrame"
   ]
  },
  {
   "cell_type": "code",
   "execution_count": 16,
   "id": "b873cd9d",
   "metadata": {},
   "outputs": [
    {
     "name": "stdout",
     "output_type": "stream",
     "text": [
      "Defaulting to user installation because normal site-packages is not writeable\n",
      "Requirement already satisfied: pandas in c:\\programdata\\anaconda3\\lib\\site-packages (1.4.2)\n",
      "Requirement already satisfied: python-dateutil>=2.8.1 in c:\\programdata\\anaconda3\\lib\\site-packages (from pandas) (2.8.2)\n",
      "Requirement already satisfied: numpy>=1.18.5 in c:\\programdata\\anaconda3\\lib\\site-packages (from pandas) (1.21.5)\n",
      "Requirement already satisfied: pytz>=2020.1 in c:\\programdata\\anaconda3\\lib\\site-packages (from pandas) (2021.3)\n",
      "Requirement already satisfied: six>=1.5 in c:\\programdata\\anaconda3\\lib\\site-packages (from python-dateutil>=2.8.1->pandas) (1.16.0)\n"
     ]
    }
   ],
   "source": [
    "!pip install pandas"
   ]
  },
  {
   "cell_type": "code",
   "execution_count": 17,
   "id": "a1a1cb56",
   "metadata": {},
   "outputs": [],
   "source": [
    "import pandas as pd"
   ]
  },
  {
   "cell_type": "code",
   "execution_count": 18,
   "id": "4a8a0368",
   "metadata": {},
   "outputs": [],
   "source": [
    "li=['data', 'science', 'ml']"
   ]
  },
  {
   "cell_type": "code",
   "execution_count": 19,
   "id": "93339c58",
   "metadata": {},
   "outputs": [],
   "source": [
    "df=pd.DataFrame(li)"
   ]
  },
  {
   "cell_type": "code",
   "execution_count": 20,
   "id": "545e8155",
   "metadata": {},
   "outputs": [
    {
     "data": {
      "text/html": [
       "<div>\n",
       "<style scoped>\n",
       "    .dataframe tbody tr th:only-of-type {\n",
       "        vertical-align: middle;\n",
       "    }\n",
       "\n",
       "    .dataframe tbody tr th {\n",
       "        vertical-align: top;\n",
       "    }\n",
       "\n",
       "    .dataframe thead th {\n",
       "        text-align: right;\n",
       "    }\n",
       "</style>\n",
       "<table border=\"1\" class=\"dataframe\">\n",
       "  <thead>\n",
       "    <tr style=\"text-align: right;\">\n",
       "      <th></th>\n",
       "      <th>0</th>\n",
       "    </tr>\n",
       "  </thead>\n",
       "  <tbody>\n",
       "    <tr>\n",
       "      <th>0</th>\n",
       "      <td>data</td>\n",
       "    </tr>\n",
       "    <tr>\n",
       "      <th>1</th>\n",
       "      <td>science</td>\n",
       "    </tr>\n",
       "    <tr>\n",
       "      <th>2</th>\n",
       "      <td>ml</td>\n",
       "    </tr>\n",
       "  </tbody>\n",
       "</table>\n",
       "</div>"
      ],
      "text/plain": [
       "         0\n",
       "0     data\n",
       "1  science\n",
       "2       ml"
      ]
     },
     "execution_count": 20,
     "metadata": {},
     "output_type": "execute_result"
    }
   ],
   "source": [
    "df"
   ]
  },
  {
   "cell_type": "code",
   "execution_count": 23,
   "id": "d725ec75",
   "metadata": {},
   "outputs": [],
   "source": [
    "df=pd.DataFrame(li, columns=['dept'])"
   ]
  },
  {
   "cell_type": "code",
   "execution_count": 24,
   "id": "0c83ce17",
   "metadata": {},
   "outputs": [
    {
     "data": {
      "text/html": [
       "<div>\n",
       "<style scoped>\n",
       "    .dataframe tbody tr th:only-of-type {\n",
       "        vertical-align: middle;\n",
       "    }\n",
       "\n",
       "    .dataframe tbody tr th {\n",
       "        vertical-align: top;\n",
       "    }\n",
       "\n",
       "    .dataframe thead th {\n",
       "        text-align: right;\n",
       "    }\n",
       "</style>\n",
       "<table border=\"1\" class=\"dataframe\">\n",
       "  <thead>\n",
       "    <tr style=\"text-align: right;\">\n",
       "      <th></th>\n",
       "      <th>dept</th>\n",
       "    </tr>\n",
       "  </thead>\n",
       "  <tbody>\n",
       "    <tr>\n",
       "      <th>0</th>\n",
       "      <td>data</td>\n",
       "    </tr>\n",
       "    <tr>\n",
       "      <th>1</th>\n",
       "      <td>science</td>\n",
       "    </tr>\n",
       "    <tr>\n",
       "      <th>2</th>\n",
       "      <td>ml</td>\n",
       "    </tr>\n",
       "  </tbody>\n",
       "</table>\n",
       "</div>"
      ],
      "text/plain": [
       "      dept\n",
       "0     data\n",
       "1  science\n",
       "2       ml"
      ]
     },
     "execution_count": 24,
     "metadata": {},
     "output_type": "execute_result"
    }
   ],
   "source": [
    "df"
   ]
  },
  {
   "cell_type": "code",
   "execution_count": 25,
   "id": "eae6a7f2",
   "metadata": {},
   "outputs": [
    {
     "data": {
      "text/plain": [
       "(3, 1)"
      ]
     },
     "execution_count": 25,
     "metadata": {},
     "output_type": "execute_result"
    }
   ],
   "source": [
    "df.shape  #row3, columns"
   ]
  },
  {
   "cell_type": "code",
   "execution_count": 26,
   "id": "cd6930f9",
   "metadata": {},
   "outputs": [],
   "source": [
    "row,col=df.shape"
   ]
  },
  {
   "cell_type": "code",
   "execution_count": 27,
   "id": "eee950e9",
   "metadata": {},
   "outputs": [
    {
     "data": {
      "text/plain": [
       "3"
      ]
     },
     "execution_count": 27,
     "metadata": {},
     "output_type": "execute_result"
    }
   ],
   "source": [
    "row"
   ]
  },
  {
   "cell_type": "code",
   "execution_count": 28,
   "id": "d4f13b3d",
   "metadata": {},
   "outputs": [
    {
     "data": {
      "text/plain": [
       "1"
      ]
     },
     "execution_count": 28,
     "metadata": {},
     "output_type": "execute_result"
    }
   ],
   "source": [
    "col"
   ]
  },
  {
   "cell_type": "code",
   "execution_count": 34,
   "id": "23d6d961",
   "metadata": {},
   "outputs": [],
   "source": [
    "df2=pd.DataFrame(li, columns=['dept_name'])"
   ]
  },
  {
   "cell_type": "code",
   "execution_count": 35,
   "id": "4485a87a",
   "metadata": {},
   "outputs": [
    {
     "data": {
      "text/html": [
       "<div>\n",
       "<style scoped>\n",
       "    .dataframe tbody tr th:only-of-type {\n",
       "        vertical-align: middle;\n",
       "    }\n",
       "\n",
       "    .dataframe tbody tr th {\n",
       "        vertical-align: top;\n",
       "    }\n",
       "\n",
       "    .dataframe thead th {\n",
       "        text-align: right;\n",
       "    }\n",
       "</style>\n",
       "<table border=\"1\" class=\"dataframe\">\n",
       "  <thead>\n",
       "    <tr style=\"text-align: right;\">\n",
       "      <th></th>\n",
       "      <th>dept_name</th>\n",
       "    </tr>\n",
       "  </thead>\n",
       "  <tbody>\n",
       "    <tr>\n",
       "      <th>0</th>\n",
       "      <td>data</td>\n",
       "    </tr>\n",
       "    <tr>\n",
       "      <th>1</th>\n",
       "      <td>science</td>\n",
       "    </tr>\n",
       "    <tr>\n",
       "      <th>2</th>\n",
       "      <td>ml</td>\n",
       "    </tr>\n",
       "  </tbody>\n",
       "</table>\n",
       "</div>"
      ],
      "text/plain": [
       "  dept_name\n",
       "0      data\n",
       "1   science\n",
       "2        ml"
      ]
     },
     "execution_count": 35,
     "metadata": {},
     "output_type": "execute_result"
    }
   ],
   "source": [
    "df2"
   ]
  },
  {
   "cell_type": "code",
   "execution_count": 36,
   "id": "5b38bb07",
   "metadata": {},
   "outputs": [
    {
     "data": {
      "text/html": [
       "<div>\n",
       "<style scoped>\n",
       "    .dataframe tbody tr th:only-of-type {\n",
       "        vertical-align: middle;\n",
       "    }\n",
       "\n",
       "    .dataframe tbody tr th {\n",
       "        vertical-align: top;\n",
       "    }\n",
       "\n",
       "    .dataframe thead th {\n",
       "        text-align: right;\n",
       "    }\n",
       "</style>\n",
       "<table border=\"1\" class=\"dataframe\">\n",
       "  <thead>\n",
       "    <tr style=\"text-align: right;\">\n",
       "      <th></th>\n",
       "      <th>dept</th>\n",
       "      <th>dept_name</th>\n",
       "    </tr>\n",
       "  </thead>\n",
       "  <tbody>\n",
       "    <tr>\n",
       "      <th>0</th>\n",
       "      <td>NaN</td>\n",
       "      <td>NaN</td>\n",
       "    </tr>\n",
       "    <tr>\n",
       "      <th>1</th>\n",
       "      <td>NaN</td>\n",
       "      <td>NaN</td>\n",
       "    </tr>\n",
       "    <tr>\n",
       "      <th>2</th>\n",
       "      <td>NaN</td>\n",
       "      <td>NaN</td>\n",
       "    </tr>\n",
       "  </tbody>\n",
       "</table>\n",
       "</div>"
      ],
      "text/plain": [
       "  dept dept_name\n",
       "0  NaN       NaN\n",
       "1  NaN       NaN\n",
       "2  NaN       NaN"
      ]
     },
     "execution_count": 36,
     "metadata": {},
     "output_type": "execute_result"
    }
   ],
   "source": [
    "df+df2"
   ]
  },
  {
   "cell_type": "code",
   "execution_count": 37,
   "id": "f0a5eb35",
   "metadata": {},
   "outputs": [
    {
     "data": {
      "text/html": [
       "<div>\n",
       "<style scoped>\n",
       "    .dataframe tbody tr th:only-of-type {\n",
       "        vertical-align: middle;\n",
       "    }\n",
       "\n",
       "    .dataframe tbody tr th {\n",
       "        vertical-align: top;\n",
       "    }\n",
       "\n",
       "    .dataframe thead th {\n",
       "        text-align: right;\n",
       "    }\n",
       "</style>\n",
       "<table border=\"1\" class=\"dataframe\">\n",
       "  <thead>\n",
       "    <tr style=\"text-align: right;\">\n",
       "      <th></th>\n",
       "      <th>dept</th>\n",
       "    </tr>\n",
       "  </thead>\n",
       "  <tbody>\n",
       "    <tr>\n",
       "      <th>0</th>\n",
       "      <td>data</td>\n",
       "    </tr>\n",
       "    <tr>\n",
       "      <th>1</th>\n",
       "      <td>science</td>\n",
       "    </tr>\n",
       "    <tr>\n",
       "      <th>2</th>\n",
       "      <td>ml</td>\n",
       "    </tr>\n",
       "  </tbody>\n",
       "</table>\n",
       "</div>"
      ],
      "text/plain": [
       "      dept\n",
       "0     data\n",
       "1  science\n",
       "2       ml"
      ]
     },
     "execution_count": 37,
     "metadata": {},
     "output_type": "execute_result"
    }
   ],
   "source": [
    "df"
   ]
  },
  {
   "cell_type": "code",
   "execution_count": 38,
   "id": "8df001a8",
   "metadata": {},
   "outputs": [
    {
     "data": {
      "text/html": [
       "<div>\n",
       "<style scoped>\n",
       "    .dataframe tbody tr th:only-of-type {\n",
       "        vertical-align: middle;\n",
       "    }\n",
       "\n",
       "    .dataframe tbody tr th {\n",
       "        vertical-align: top;\n",
       "    }\n",
       "\n",
       "    .dataframe thead th {\n",
       "        text-align: right;\n",
       "    }\n",
       "</style>\n",
       "<table border=\"1\" class=\"dataframe\">\n",
       "  <thead>\n",
       "    <tr style=\"text-align: right;\">\n",
       "      <th></th>\n",
       "      <th>dept_name</th>\n",
       "    </tr>\n",
       "  </thead>\n",
       "  <tbody>\n",
       "    <tr>\n",
       "      <th>0</th>\n",
       "      <td>data</td>\n",
       "    </tr>\n",
       "    <tr>\n",
       "      <th>1</th>\n",
       "      <td>science</td>\n",
       "    </tr>\n",
       "    <tr>\n",
       "      <th>2</th>\n",
       "      <td>ml</td>\n",
       "    </tr>\n",
       "  </tbody>\n",
       "</table>\n",
       "</div>"
      ],
      "text/plain": [
       "  dept_name\n",
       "0      data\n",
       "1   science\n",
       "2        ml"
      ]
     },
     "execution_count": 38,
     "metadata": {},
     "output_type": "execute_result"
    }
   ],
   "source": [
    "df2"
   ]
  },
  {
   "cell_type": "code",
   "execution_count": 42,
   "id": "1e5398a4",
   "metadata": {},
   "outputs": [],
   "source": [
    "df=pd.concat([df,df2], axis=1)"
   ]
  },
  {
   "cell_type": "code",
   "execution_count": 45,
   "id": "e4eea8dc",
   "metadata": {},
   "outputs": [
    {
     "data": {
      "text/html": [
       "<div>\n",
       "<style scoped>\n",
       "    .dataframe tbody tr th:only-of-type {\n",
       "        vertical-align: middle;\n",
       "    }\n",
       "\n",
       "    .dataframe tbody tr th {\n",
       "        vertical-align: top;\n",
       "    }\n",
       "\n",
       "    .dataframe thead th {\n",
       "        text-align: right;\n",
       "    }\n",
       "</style>\n",
       "<table border=\"1\" class=\"dataframe\">\n",
       "  <thead>\n",
       "    <tr style=\"text-align: right;\">\n",
       "      <th></th>\n",
       "      <th>dept</th>\n",
       "      <th>dept_name</th>\n",
       "      <th>dept_name</th>\n",
       "    </tr>\n",
       "  </thead>\n",
       "  <tbody>\n",
       "    <tr>\n",
       "      <th>0</th>\n",
       "      <td>data</td>\n",
       "      <td>data</td>\n",
       "      <td>data</td>\n",
       "    </tr>\n",
       "    <tr>\n",
       "      <th>1</th>\n",
       "      <td>science</td>\n",
       "      <td>science</td>\n",
       "      <td>science</td>\n",
       "    </tr>\n",
       "    <tr>\n",
       "      <th>2</th>\n",
       "      <td>ml</td>\n",
       "      <td>ml</td>\n",
       "      <td>ml</td>\n",
       "    </tr>\n",
       "  </tbody>\n",
       "</table>\n",
       "</div>"
      ],
      "text/plain": [
       "      dept dept_name dept_name\n",
       "0     data      data      data\n",
       "1  science   science   science\n",
       "2       ml        ml        ml"
      ]
     },
     "execution_count": 45,
     "metadata": {},
     "output_type": "execute_result"
    }
   ],
   "source": [
    "df"
   ]
  },
  {
   "cell_type": "code",
   "execution_count": 47,
   "id": "ce31576f",
   "metadata": {},
   "outputs": [],
   "source": [
    "df.drop([0,1], inplace=True)"
   ]
  },
  {
   "cell_type": "code",
   "execution_count": 48,
   "id": "b66fa309",
   "metadata": {},
   "outputs": [
    {
     "data": {
      "text/html": [
       "<div>\n",
       "<style scoped>\n",
       "    .dataframe tbody tr th:only-of-type {\n",
       "        vertical-align: middle;\n",
       "    }\n",
       "\n",
       "    .dataframe tbody tr th {\n",
       "        vertical-align: top;\n",
       "    }\n",
       "\n",
       "    .dataframe thead th {\n",
       "        text-align: right;\n",
       "    }\n",
       "</style>\n",
       "<table border=\"1\" class=\"dataframe\">\n",
       "  <thead>\n",
       "    <tr style=\"text-align: right;\">\n",
       "      <th></th>\n",
       "      <th>dept</th>\n",
       "      <th>dept_name</th>\n",
       "      <th>dept_name</th>\n",
       "    </tr>\n",
       "  </thead>\n",
       "  <tbody>\n",
       "    <tr>\n",
       "      <th>2</th>\n",
       "      <td>ml</td>\n",
       "      <td>ml</td>\n",
       "      <td>ml</td>\n",
       "    </tr>\n",
       "  </tbody>\n",
       "</table>\n",
       "</div>"
      ],
      "text/plain": [
       "  dept dept_name dept_name\n",
       "2   ml        ml        ml"
      ]
     },
     "execution_count": 48,
     "metadata": {},
     "output_type": "execute_result"
    }
   ],
   "source": [
    "df"
   ]
  },
  {
   "cell_type": "code",
   "execution_count": null,
   "id": "82d9684c",
   "metadata": {},
   "outputs": [],
   "source": []
  }
 ],
 "metadata": {
  "kernelspec": {
   "display_name": "Python 3 (ipykernel)",
   "language": "python",
   "name": "python3"
  },
  "language_info": {
   "codemirror_mode": {
    "name": "ipython",
    "version": 3
   },
   "file_extension": ".py",
   "mimetype": "text/x-python",
   "name": "python",
   "nbconvert_exporter": "python",
   "pygments_lexer": "ipython3",
   "version": "3.9.12"
  }
 },
 "nbformat": 4,
 "nbformat_minor": 5
}
