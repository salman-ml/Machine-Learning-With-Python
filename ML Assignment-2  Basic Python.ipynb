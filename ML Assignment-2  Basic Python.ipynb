{
 "cells": [
  {
   "cell_type": "markdown",
   "id": "c37ee776",
   "metadata": {},
   "source": [
    "# Variables"
   ]
  },
  {
   "cell_type": "code",
   "execution_count": 1,
   "id": "3d00b179",
   "metadata": {},
   "outputs": [
    {
     "name": "stdout",
     "output_type": "stream",
     "text": [
      "Hello Salman\n"
     ]
    }
   ],
   "source": [
    "print(\"Hello Salman\") # to save-> cntl +S"
   ]
  },
  {
   "cell_type": "code",
   "execution_count": 2,
   "id": "4d50733f",
   "metadata": {},
   "outputs": [],
   "source": [
    "#print(\"Hello World\") # to run-> shift+ Enter  '''"
   ]
  },
  {
   "cell_type": "code",
   "execution_count": 3,
   "id": "f1b5134d",
   "metadata": {},
   "outputs": [
    {
     "data": {
      "text/plain": [
       "str"
      ]
     },
     "execution_count": 3,
     "metadata": {},
     "output_type": "execute_result"
    }
   ],
   "source": [
    "for_name=  'name'\n",
    "type(for_name)"
   ]
  },
  {
   "cell_type": "code",
   "execution_count": 4,
   "id": "8c54056f",
   "metadata": {},
   "outputs": [
    {
     "name": "stdout",
     "output_type": "stream",
     "text": [
      "Hello salman\n",
      "    ||\n",
      "how are you?\n"
     ]
    }
   ],
   "source": [
    "print(\"Hello salman\\n\", \"\\nhow are you?\", sep='    ||', end='\\n')"
   ]
  },
  {
   "cell_type": "code",
   "execution_count": 5,
   "id": "3822960a",
   "metadata": {},
   "outputs": [
    {
     "data": {
      "text/plain": [
       "'not salman'"
      ]
     },
     "execution_count": 5,
     "metadata": {},
     "output_type": "execute_result"
    }
   ],
   "source": [
    "your_name='not salman'\n",
    "your_name"
   ]
  },
  {
   "cell_type": "code",
   "execution_count": 6,
   "id": "3921bfc7",
   "metadata": {},
   "outputs": [],
   "source": [
    "camelCaseVar, PascalCaseVar,snake_case_var = 121, 121, 123"
   ]
  },
  {
   "cell_type": "code",
   "execution_count": 7,
   "id": "2bec2fcb",
   "metadata": {},
   "outputs": [
    {
     "data": {
      "text/plain": [
       "123"
      ]
     },
     "execution_count": 7,
     "metadata": {},
     "output_type": "execute_result"
    }
   ],
   "source": [
    "snake_case_var"
   ]
  },
  {
   "cell_type": "code",
   "execution_count": 8,
   "id": "6d014708",
   "metadata": {},
   "outputs": [
    {
     "data": {
      "text/plain": [
       "121"
      ]
     },
     "execution_count": 8,
     "metadata": {},
     "output_type": "execute_result"
    }
   ],
   "source": [
    "PascalCaseVar"
   ]
  },
  {
   "cell_type": "code",
   "execution_count": 9,
   "id": "2cbe0694",
   "metadata": {},
   "outputs": [
    {
     "data": {
      "text/plain": [
       "2260764153968"
      ]
     },
     "execution_count": 9,
     "metadata": {},
     "output_type": "execute_result"
    }
   ],
   "source": [
    "id(PascalCaseVar)"
   ]
  },
  {
   "cell_type": "code",
   "execution_count": 10,
   "id": "bc02db84",
   "metadata": {},
   "outputs": [
    {
     "data": {
      "text/plain": [
       "2260764153968"
      ]
     },
     "execution_count": 10,
     "metadata": {},
     "output_type": "execute_result"
    }
   ],
   "source": [
    "id(camelCaseVar) #not error"
   ]
  },
  {
   "cell_type": "code",
   "execution_count": 11,
   "id": "a27842bd",
   "metadata": {},
   "outputs": [
    {
     "data": {
      "text/plain": [
       "1"
      ]
     },
     "execution_count": 11,
     "metadata": {},
     "output_type": "execute_result"
    }
   ],
   "source": [
    "x,y,z=1,2,3\n",
    "x"
   ]
  },
  {
   "cell_type": "code",
   "execution_count": 12,
   "id": "190760a8",
   "metadata": {},
   "outputs": [
    {
     "data": {
      "text/plain": [
       "2"
      ]
     },
     "execution_count": 12,
     "metadata": {},
     "output_type": "execute_result"
    }
   ],
   "source": [
    "y"
   ]
  },
  {
   "cell_type": "code",
   "execution_count": 13,
   "id": "e13f728f",
   "metadata": {},
   "outputs": [
    {
     "data": {
      "text/plain": [
       "(10.5, 'Hello', 'World', 20)"
      ]
     },
     "execution_count": 13,
     "metadata": {},
     "output_type": "execute_result"
    }
   ],
   "source": [
    "aa, bb, cc, dd= 10.50, 'Hello', 'World', 20\n",
    "aa, bb, cc, dd,"
   ]
  },
  {
   "cell_type": "markdown",
   "id": "a72a5b39",
   "metadata": {},
   "source": [
    "# Global and Local Variable"
   ]
  },
  {
   "cell_type": "code",
   "execution_count": 14,
   "id": "0c783a75",
   "metadata": {},
   "outputs": [
    {
     "name": "stdout",
     "output_type": "stream",
     "text": [
      "This is 1: 100\n",
      "this is 2: 100\n"
     ]
    }
   ],
   "source": [
    "x=100\n",
    "def my_function():\n",
    "    print('This is 1:',x)\n",
    "my_function()\n",
    "print('this is 2:',x)"
   ]
  },
  {
   "cell_type": "code",
   "execution_count": null,
   "id": "1ea531e1",
   "metadata": {},
   "outputs": [],
   "source": []
  },
  {
   "cell_type": "code",
   "execution_count": 15,
   "id": "b9ceb4d6",
   "metadata": {},
   "outputs": [
    {
     "name": "stdout",
     "output_type": "stream",
     "text": [
      "This is local variable: 14\n",
      "this is global variable: 11\n"
     ]
    }
   ],
   "source": [
    "xy=11\n",
    "def my_function():\n",
    "    varTest=14\n",
    "    print('This is local variable:',varTest)\n",
    "my_function()\n",
    "print('this is global variable:',xy)"
   ]
  },
  {
   "cell_type": "code",
   "execution_count": 16,
   "id": "c3d06ab4",
   "metadata": {},
   "outputs": [
    {
     "name": "stdout",
     "output_type": "stream",
     "text": [
      "This is Global: 14\n",
      "this is 1: 14\n"
     ]
    }
   ],
   "source": [
    "\n",
    "def my_function():\n",
    "    global varTest\n",
    "    varTest=14 #global\n",
    "    print('This is Global:',varTest)\n",
    "my_function()\n",
    "print('this is 1:',varTest)"
   ]
  },
  {
   "cell_type": "markdown",
   "id": "7f27ff88",
   "metadata": {},
   "source": [
    "# if elif else Condition"
   ]
  },
  {
   "cell_type": "code",
   "execution_count": 17,
   "id": "5bcc68e3",
   "metadata": {},
   "outputs": [],
   "source": [
    "x=12\n",
    "y=13\n",
    "if x>y:\n",
    "    print('yes')\n",
    "    "
   ]
  },
  {
   "cell_type": "code",
   "execution_count": 18,
   "id": "d38f8bf0",
   "metadata": {},
   "outputs": [
    {
     "name": "stdout",
     "output_type": "stream",
     "text": [
      "osthir\n"
     ]
    }
   ],
   "source": [
    "x=12\n",
    "y=13\n",
    "if x>y:\n",
    "    print('yes')\n",
    "elif x==y:\n",
    "    print('not bad')\n",
    "if y>x:\n",
    "    print('osthir')\n",
    "else:\n",
    "    print('finished')"
   ]
  },
  {
   "cell_type": "code",
   "execution_count": 19,
   "id": "2b6b2b24",
   "metadata": {},
   "outputs": [
    {
     "name": "stdout",
     "output_type": "stream",
     "text": [
      "osthir\n",
      "Awesome\n"
     ]
    }
   ],
   "source": [
    "x=12\n",
    "y=13\n",
    "if (x>y):\n",
    "    print('yes')\n",
    "elif (x==y):\n",
    "    print('not bad')\n",
    "if (y>x):\n",
    "    print('osthir')\n",
    "    if x==12:\n",
    "        print('Awesome')\n",
    "else:\n",
    "    print('finished')"
   ]
  },
  {
   "cell_type": "code",
   "execution_count": 20,
   "id": "90623f23",
   "metadata": {},
   "outputs": [
    {
     "name": "stdout",
     "output_type": "stream",
     "text": [
      "12\n",
      "14\n",
      "15\n"
     ]
    }
   ],
   "source": [
    "x=(12,14,15)\n",
    "for a in x:\n",
    "    print(a)"
   ]
  },
  {
   "cell_type": "markdown",
   "id": "73c75c63",
   "metadata": {},
   "source": [
    "# For Loop"
   ]
  },
  {
   "cell_type": "code",
   "execution_count": 21,
   "id": "84ba1829",
   "metadata": {},
   "outputs": [
    {
     "name": "stdout",
     "output_type": "stream",
     "text": [
      "1 ML Data science\n",
      "2 ML Data science\n",
      "3 ML Data science\n",
      "4 ML Data science\n",
      "5 ML Data science\n",
      "6 ML Data science\n",
      "7 ML Data science\n",
      "8 ML Data science\n",
      "9 ML Data science\n",
      "10 ML Data science\n"
     ]
    }
   ],
   "source": [
    "for x in range(1,11):\n",
    "    print(x, 'ML', 'Data science')\n"
   ]
  },
  {
   "cell_type": "code",
   "execution_count": 22,
   "id": "c4eb33a6",
   "metadata": {},
   "outputs": [
    {
     "name": "stdout",
     "output_type": "stream",
     "text": [
      "1\n",
      "2\n",
      "3\n",
      "4\n",
      "5\n",
      "6\n",
      "7\n",
      "8\n",
      "9\n",
      "10\n"
     ]
    }
   ],
   "source": [
    "for x in range(1,11):\n",
    "    print(x)\n"
   ]
  },
  {
   "cell_type": "code",
   "execution_count": 23,
   "id": "52634b81",
   "metadata": {},
   "outputs": [
    {
     "name": "stdout",
     "output_type": "stream",
     "text": [
      "0\n",
      "1\n",
      "2\n",
      "3\n",
      "4\n",
      "5\n",
      "6\n",
      "7\n",
      "8\n",
      "9\n"
     ]
    }
   ],
   "source": [
    "for y in range(10):\n",
    "    print(y)"
   ]
  },
  {
   "cell_type": "code",
   "execution_count": 24,
   "id": "deb26028",
   "metadata": {},
   "outputs": [
    {
     "name": "stdout",
     "output_type": "stream",
     "text": [
      "1\n",
      "5\n",
      "9\n"
     ]
    }
   ],
   "source": [
    "for y in range(1,10,4):\n",
    "    print(y)"
   ]
  },
  {
   "cell_type": "markdown",
   "id": "3ee0b1f9",
   "metadata": {},
   "source": [
    "# While Loop"
   ]
  },
  {
   "cell_type": "code",
   "execution_count": 25,
   "id": "8ca4c3b9",
   "metadata": {},
   "outputs": [
    {
     "name": "stdout",
     "output_type": "stream",
     "text": [
      "1 ML\n",
      "2 ML\n",
      "3 ML\n",
      "4 ML\n",
      "5 ML\n",
      "6 ML\n",
      "7 ML\n",
      "8 ML\n",
      "9 ML\n",
      "10 ML\n"
     ]
    }
   ],
   "source": [
    "i=1\n",
    "while i<11:\n",
    "    print(i, 'ML')\n",
    "    i=i+1\n"
   ]
  },
  {
   "cell_type": "markdown",
   "id": "3893902c",
   "metadata": {},
   "source": [
    "# Import Image From Folder"
   ]
  },
  {
   "cell_type": "code",
   "execution_count": 26,
   "id": "09078f51",
   "metadata": {
    "scrolled": true
   },
   "outputs": [
    {
     "data": {
      "image/png": "[encoded data removed]",
      "text/plain": [
       "<IPython.core.display.Image object>"
      ]
     },
     "execution_count": 26,
     "metadata": {},
     "output_type": "execute_result"
    }
   ],
   "source": [
    "from IPython.display import Image\n",
    "Image('NNP.png')"
   ]
  },
  {
   "cell_type": "code",
   "execution_count": 27,
   "id": "3cbabdd2",
   "metadata": {},
   "outputs": [
    {
     "data": {
      "text/plain": [
       "'I love data science'"
      ]
     },
     "execution_count": 27,
     "metadata": {},
     "output_type": "execute_result"
    }
   ],
   "source": [
    "data='I love data science'\n",
    "data"
   ]
  },
  {
   "cell_type": "code",
   "execution_count": 28,
   "id": "06e79643",
   "metadata": {},
   "outputs": [
    {
     "data": {
      "text/plain": [
       "'I LOVE DATA SCIENCE'"
      ]
     },
     "execution_count": 28,
     "metadata": {},
     "output_type": "execute_result"
    }
   ],
   "source": [
    "data.upper()"
   ]
  },
  {
   "cell_type": "code",
   "execution_count": 29,
   "id": "1f2c34ed",
   "metadata": {},
   "outputs": [
    {
     "data": {
      "text/plain": [
       "['I', 'love', 'data', 'science']"
      ]
     },
     "execution_count": 29,
     "metadata": {},
     "output_type": "execute_result"
    }
   ],
   "source": [
    "data.split()"
   ]
  },
  {
   "cell_type": "code",
   "execution_count": null,
   "id": "282c7903",
   "metadata": {},
   "outputs": [],
   "source": [
    "\n"
   ]
  },
  {
   "cell_type": "code",
   "execution_count": null,
   "id": "a36c2e37",
   "metadata": {},
   "outputs": [],
   "source": []
  }
 ],
 "metadata": {
  "kernelspec": {
   "display_name": "Python 3 (ipykernel)",
   "language": "python",
   "name": "python3"
  },
  "language_info": {
   "codemirror_mode": {
    "name": "ipython",
    "version": 3
   },
   "file_extension": ".py",
   "mimetype": "text/x-python",
   "name": "python",
   "nbconvert_exporter": "python",
   "pygments_lexer": "ipython3",
   "version": "3.9.12"
  }
 },
 "nbformat": 4,
 "nbformat_minor": 5
}
